{
 "cells": [
  {
   "cell_type": "markdown",
   "id": "5fe80e70",
   "metadata": {},
   "source": [
    "# Scopus Keyword Co-occurrence Networks Analysis"
   ]
  },
  {
   "cell_type": "markdown",
   "id": "8bf0ee07",
   "metadata": {},
   "source": [
    "This notebook performs a detailed analysis on different keyword co-occurrence networks that can be created with automatic keywords extracted from Scopus articles using different data preprocessing approaches."
   ]
  },
  {
   "cell_type": "code",
   "execution_count": 134,
   "id": "f2da78aa",
   "metadata": {},
   "outputs": [],
   "source": [
    "import pandas as pd\n",
    "import numpy as np\n",
    "import networkx as nx\n",
    "import xml.etree.ElementTree as ET\n",
    "import itertools\n",
    "from matplotlib import pyplot as plt\n",
    "from itertools import combinations\n",
    "import math\n",
    "from mpl_toolkits.axes_grid1.inset_locator import inset_axes\n",
    "from mpl_toolkits.axes_grid1.inset_locator import mark_inset\n",
    "import matplotlib\n",
    "import re\n",
    "import operator"
   ]
  },
  {
   "cell_type": "markdown",
   "id": "b0fec421",
   "metadata": {},
   "source": [
    "The processed articles are in XML format, with an ID element and multiple keyword elements. The keyword elements each contain a local relevance score and the keyword itself.\n",
    "\n",
    "The data is in different files based on the length of keywords. File 'abstracts_1-1_complete.xml' contains 1-1 keywords, file 'abstracts_1-2_complete.xml' contains 1-2 keywords, etc."
   ]
  },
  {
   "cell_type": "code",
   "execution_count": 2,
   "id": "78c5ee94",
   "metadata": {},
   "outputs": [],
   "source": [
    "tree2_2 = ET.parse('abstracts_2-2_complete.xml')\n",
    "root2_2 = tree2_2.getroot()\n",
    "\n",
    "tree2_3 = ET.parse('abstracts_2-3_complete.xml')\n",
    "root2_3 = tree2_3.getroot()\n",
    "\n",
    "tree1_1 = ET.parse('abstracts_1-1_complete.xml')\n",
    "root1_1 = tree1_1.getroot()\n",
    "\n",
    "tree1_2 = ET.parse('abstracts_1-2_complete.xml')\n",
    "root1_2 = tree1_2.getroot()\n",
    "\n",
    "tree1_3 = ET.parse('abstracts_1-3_complete.xml')\n",
    "root1_3 = tree1_3.getroot()\n",
    "\n",
    "tree3_3 = ET.parse('abstracts_3-3_complete.xml')\n",
    "root3_3 = tree3_3.getroot()"
   ]
  },
  {
   "cell_type": "markdown",
   "id": "2b8dabf6",
   "metadata": {},
   "source": [
    "This function creates the word co-occurrence network based on a given set of articles and their keywords. Keywords can be removed if they occur in a list of user-defined noisy keywords."
   ]
  },
  {
   "cell_type": "code",
   "execution_count": 4,
   "id": "2938138c",
   "metadata": {},
   "outputs": [],
   "source": [
    "def collect_keyword_counts(root):\n",
    "    keyword_count = dict()\n",
    "    \n",
    "    # looping through the tweets\n",
    "    for abstract in root:\n",
    "        keywords = []\n",
    "        \n",
    "        # id and sentiment are elements 0 and 1, hence tweets start at element 2\n",
    "        # each element has the relevance score and the keyword itself, separated by ','\n",
    "        for keyword_score_pair in abstract[2:]:\n",
    "            score = float(keyword_score_pair.text[1:keyword_score_pair.text.find(',')])\n",
    "            keyword = keyword_score_pair.text[keyword_score_pair.text.find(',')+3:keyword_score_pair.text.rfind(')')-1]\n",
    "            \n",
    "            # counts of keywords are tracked\n",
    "            if keyword not in keywords:\n",
    "                keywords.append(keyword)\n",
    "                if keyword in keyword_count:\n",
    "                    keyword_count[keyword] += 1\n",
    "                else:\n",
    "                    keyword_count[keyword] = 1\n",
    "                        \n",
    "    return keyword_count\n",
    "    \n",
    "def extract_info(root, keyword_counts, allowed_keywords):\n",
    "    updated_keyword_counts = keyword_counts\n",
    "    keyword_pairs_counts = dict()\n",
    "    keyword_scores = dict()\n",
    "    \n",
    "    for abstract in root:\n",
    "        keywords = []\n",
    "        \n",
    "        # id and sentiment are elements 0 and 1, hence tweets start at element 2\n",
    "        # each element has the relevance score and the keyword itself, separated by ','\n",
    "        for keyword_score_pair in abstract[2:]:\n",
    "            score = float(keyword_score_pair.text[1:keyword_score_pair.text.find(',')])\n",
    "            keyword = keyword_score_pair.text[keyword_score_pair.text.find(',')+3:keyword_score_pair.text.rfind(')')-1]\n",
    "            \n",
    "            if (keyword not in keywords) and (keyword in allowed_keywords):\n",
    "                keywords.append(keyword)\n",
    "                keyword_scores[keyword] = score\n",
    "    \n",
    "        # if a keyword in a tweet is a subset of another keyword in the tweet, only the longer keyword is kept\n",
    "        exclude_keywords = []\n",
    "        for keyword_pair in list(combinations(keywords, 2)):\n",
    "            if keyword_pair[0] in keyword_pair[1]:\n",
    "                exclude_keywords.append(keyword_pair[0])\n",
    "            elif keyword_pair[1] in keyword_pair[0]:\n",
    "                exclude_keywords.append(keyword_pair[1])\n",
    "\n",
    "        for keyword in exclude_keywords:\n",
    "            if keyword in keywords:\n",
    "                keywords.remove(keyword)\n",
    "                updated_keyword_counts[keyword] -= 1\n",
    "        \n",
    "        # counts are tracked for how often keywords occur together\n",
    "        for keyword_pair in list(combinations(keywords, 2)):\n",
    "            if frozenset(keyword_pair) in keyword_pairs_counts:\n",
    "                keyword_pairs_counts[frozenset(keyword_pair)] += 1\n",
    "            else:\n",
    "                keyword_pairs_counts[frozenset(keyword_pair)] = 1\n",
    "                \n",
    "    return updated_keyword_counts, keyword_pairs_counts, keyword_scores\n",
    "\n",
    "def create_graph(keyword_counts, keyword_pairs_counts, keyword_scores, score_threshold = None, noisy_keywords = None):\n",
    "    G = nx.Graph()\n",
    "    G.add_nodes_from(list(keyword_counts.keys()))\n",
    "    nx.set_node_attributes(G, keyword_counts, name=\"count\")\n",
    "\n",
    "    for edge_to_add in keyword_pairs_counts:\n",
    "        nodes = list(edge_to_add)\n",
    "        G.add_edge(nodes[0], nodes[1], weight = keyword_pairs_counts[edge_to_add])\n",
    "        \n",
    "    # keywords that only occur once and score below a given score threshold are removed\n",
    "    if score_threshold:\n",
    "        remove_score = [node for node,score in keyword_scores.items() if score < score_threshold]\n",
    "        remove = list(set(remove_score))\n",
    "        G.remove_nodes_from(remove)\n",
    "    \n",
    "    # all keywords defined as noisy are removed\n",
    "    if noisy_keywords:\n",
    "        G.remove_nodes_from(noisy_keywords)\n",
    "        \n",
    "    return(G)\n",
    "\n",
    "def full_graph_pipeline(root, count_threshold, score_threshold = None, noisy_keywords = None):\n",
    "    keyword_count = collect_keyword_counts(root)\n",
    "    \n",
    "    updated_keyword_count = {k: v for k, v in keyword_count.items() if v > 5}\n",
    "    allowed_keywords = list(updated_keyword_count.keys())\n",
    "    updated_keyword_counts, keyword_pairs_counts, keyword_scores = extract_info(root, updated_keyword_count, allowed_keywords)\n",
    "    \n",
    "    if noisy_keywords:\n",
    "        final_graph = create_graph(updated_keyword_counts, keyword_pairs_counts, keyword_scores, noisy_keywords = noisy_keywords)\n",
    "        \n",
    "    else:\n",
    "        final_graph = create_graph(updated_keyword_counts, keyword_pairs_counts, keyword_scores)\n",
    "\n",
    "    return final_graph"
   ]
  },
  {
   "cell_type": "markdown",
   "id": "bd07ee73",
   "metadata": {},
   "source": [
    "A set of copyright related 'noisy' keywords is defined."
   ]
  },
  {
   "cell_type": "code",
   "execution_count": null,
   "id": "689ecb0c",
   "metadata": {},
   "outputs": [],
   "source": [
    "all_roots = [root1_1, root1_2, root1_3, root2_2, root2_3, root3_3]\n",
    "\n",
    "all_keywords = set()\n",
    "for root in all_roots:\n",
    "    keywords = set(collect_keyword_counts(root).keys())\n",
    "    all_keywords = all_keywords | keywords\n",
    "    \n",
    "copyright_keywords = [x for x in all_keywords if '©' in x] + [x for x in all_keywords if 'copyright' in x]\n",
    "copyright_keywords.append('rights reserved')"
   ]
  },
  {
   "cell_type": "markdown",
   "id": "4684b00f",
   "metadata": {},
   "source": [
    "All graphs are created for various length keywords (removing copyright keywords along the way)."
   ]
  },
  {
   "cell_type": "code",
   "execution_count": null,
   "id": "f0c694f3",
   "metadata": {},
   "outputs": [],
   "source": [
    "all_roots = {'1_1': root1_1, '1_2': root1_2, '1_3': root1_3, '2_2': root2_2, '2_3': root2_3, '3_3': root3_3}\n",
    "\n",
    "all_graphs = dict()\n",
    "for root_num in all_roots:\n",
    "    created_graph = full_graph_pipeline(all_roots[root_num], 5, noisy_keywords = copyright_keywords)\n",
    "    all_graphs[root_num] = created_graph"
   ]
  },
  {
   "cell_type": "markdown",
   "id": "a1dcc816",
   "metadata": {},
   "source": [
    "## Global Network Properties"
   ]
  },
  {
   "cell_type": "markdown",
   "id": "e261dab6",
   "metadata": {},
   "source": [
    "We can create a properties table to see an overview of all graph statistics."
   ]
  },
  {
   "cell_type": "code",
   "execution_count": 8,
   "id": "cb1f859c",
   "metadata": {},
   "outputs": [],
   "source": [
    "def generate_network_prop_table(graphs):\n",
    "    network_prop_df = pd.DataFrame(columns = ['setup', 'nodes', 'edges', 'edge_weight', 'components'])\n",
    "    for setup in graphs:\n",
    "        graph = graphs[setup]\n",
    "        num_nodes = len(graph.nodes())\n",
    "        num_edges = len(graph.edges())\n",
    "        edge_weight = graph.size(weight='weight')\n",
    "        component_sizes = [len(c) for c in sorted(nx.connected_components(graph), key=len, reverse=True)]\n",
    "        \n",
    "        network_prop_df = pd.concat([network_prop_df, pd.DataFrame.from_dict({'setup': setup, 'nodes': [num_nodes], 'edges': [num_edges]\n",
    "                                            ,'edge_weight': [edge_weight], 'components': [component_sizes]})], ignore_index = True)\n",
    "        \n",
    "    return network_prop_df"
   ]
  },
  {
   "cell_type": "code",
   "execution_count": 9,
   "id": "c32ab858",
   "metadata": {},
   "outputs": [],
   "source": [
    "generate_network_prop_table(all_graphs)"
   ]
  },
  {
   "cell_type": "markdown",
   "id": "f9b6cc2a",
   "metadata": {},
   "source": [
    "#### Centrality Distributions"
   ]
  },
  {
   "cell_type": "markdown",
   "id": "acacf9fe",
   "metadata": {},
   "source": [
    "We plot the degree centrality and node strength distributions for positive, negative, neutral, and all graphs with different score relevance thresholds applied."
   ]
  },
  {
   "cell_type": "code",
   "execution_count": 91,
   "id": "86331953",
   "metadata": {},
   "outputs": [],
   "source": [
    "def plot_graph_fun(graphs, fun, axis, offset, labels, sentiment, fun_arg = None):\n",
    "    i = 0\n",
    "    for setup in graphs:\n",
    "        graph = graphs[setup]\n",
    "        \n",
    "        nx_fun = getattr(nx, fun)\n",
    "        \n",
    "        if fun_arg:\n",
    "            fun_vals = sorted(list(nx_fun(graph, fun_arg).values()))[:-offset]\n",
    "            cum_distr = np.arange(len(fun_vals))/float(len(fun_vals))\n",
    "        \n",
    "        else:\n",
    "            fun_vals = sorted(list(nx_fun(graph).values()))[:-offset]\n",
    "            cum_distr = np.arange(len(fun_vals))/float(len(fun_vals))\n",
    "        \n",
    "        axis.plot(fun_vals, cum_distr, label = labels[i])\n",
    "        i += 1\n",
    "    \n",
    "fig, axes = plt.subplots(nrows = 1, ncols = 1, figsize = (10, 10))\n",
    "\n",
    "plot_graph_fun(all_graphs, 'degree_centrality', axes, 1, ['1-1 gram','1-2 gram', '1-3 gram','2-2 gram','2-3 gram','3-3 gram'], 'All')\n",
    "\n",
    "axes.legend(loc='upper right')\n",
    "\n",
    "fig.supxlabel('Degree Centrality')\n",
    "fig.supylabel('Cumulative Probability')\n",
    "\n",
    "fig.suptitle('Degree centrality distribution')\n",
    "fig.tight_layout()"
   ]
  },
  {
   "cell_type": "code",
   "execution_count": 161,
   "id": "e055be41",
   "metadata": {},
   "outputs": [
    {
     "data": {
      "image/png": "[encoded data removed]",
      "text/plain": [
       "<Figure size 1000x1000 with 4 Axes>"
      ]
     },
     "metadata": {},
     "output_type": "display_data"
    }
   ],
   "source": [
    "def plot_graph_strength(graphs, axis, offset, labels, sentiment):\n",
    "    i = 0\n",
    "    for setup in graphs:\n",
    "        graph = graphs[setup]\n",
    "        \n",
    "        fun_vals = sorted(list(dict(nx.degree(graph, weight = 'weight')).values()))[:-offset]\n",
    "        cum_distr = np.arange(len(fun_vals))/float(len(fun_vals))\n",
    "        \n",
    "        axis.plot(fun_vals, cum_distr, label = labels[i])\n",
    "        i += 1\n",
    "        \n",
    "fig, axes = plt.subplots(nrows = 1, ncols = 1, figsize = (10, 10))\n",
    "\n",
    "plot_graph_strength(all_graphs, axes, 1, ['1-1 gram','1-2 gram', '1-3 gram','2-2 gram','2-3 gram','3-3 gram'], 'All')\n",
    "\n",
    "axes.legend(loc='upper right')\n",
    "\n",
    "fig.supxlabel('Node Strength')\n",
    "fig.supylabel('Cumulative Probability')\n",
    "\n",
    "fig.suptitle('Node strength distribution')\n",
    "fig.tight_layout()"
   ]
  },
  {
   "cell_type": "markdown",
   "id": "fa667fe2",
   "metadata": {},
   "source": [
    "#### Node Assortivity"
   ]
  },
  {
   "cell_type": "markdown",
   "id": "9069a4c3",
   "metadata": {},
   "source": [
    "We can also calculate network assortivity values, to see how nodes tend to connect to each other based on their strength, degree, or count."
   ]
  },
  {
   "cell_type": "code",
   "execution_count": 26,
   "id": "c7f588cc",
   "metadata": {},
   "outputs": [],
   "source": [
    "def generate_network_assort_table(graphs):\n",
    "    network_prop_df = pd.DataFrame(columns = ['setup', 'strength', 'degree', 'count'])\n",
    "    for setup in graphs:\n",
    "        graph = graphs[setup]\n",
    "        strength = nx.degree_assortativity_coefficient(graph, weight = 'weight')\n",
    "        degree_coeff = nx.degree_assortativity_coefficient(graph)\n",
    "        count_coeff = nx.attribute_assortativity_coefficient(graph, 'count')\n",
    "        \n",
    "        network_prop_df = pd.concat([network_prop_df, pd.DataFrame.from_dict({'setup': setup, 'strength': [strength], 'degree': [degree_coeff]\n",
    "                                            ,'count': [count_coeff]})], ignore_index = True)\n",
    "        \n",
    "    return network_prop_df"
   ]
  },
  {
   "cell_type": "markdown",
   "id": "b5b1cd08",
   "metadata": {},
   "source": [
    "## Node ranking"
   ]
  },
  {
   "cell_type": "markdown",
   "id": "4c9301b6",
   "metadata": {},
   "source": [
    "For each graph, we can rank nodes based on their degree or node centralities."
   ]
  },
  {
   "cell_type": "code",
   "execution_count": 28,
   "id": "e9d6ad83",
   "metadata": {},
   "outputs": [],
   "source": [
    "# the function ranks nodes in multiple graphs at once\n",
    "# since graphs can have different numbers of nodes, we can limit how many of the top nodes are retained\n",
    "def sorted_cent(graphs, topN):\n",
    "    degCent_df = pd.DataFrame()\n",
    "    nodeStr_df = pd.DataFrame()\n",
    "    \n",
    "    for setup in graphs:\n",
    "        \n",
    "        graph = graphs[setup]\n",
    "\n",
    "        degCent = nx.degree_centrality(graph)\n",
    "        degCent_sorted=dict(sorted(degCent.items(), key=lambda item: item[1],reverse=True))\n",
    "        \n",
    "        degCent_df[setup] = list(degCent_sorted.keys())[0:topN]\n",
    "        \n",
    "        nodeStr = nx.degree(graph, weight = 'weight')\n",
    "        nodeStr_sorted = dict(sorted(dict(nodeStr).items(), key=lambda item: item[1],reverse=True))\n",
    "        \n",
    "        nodeStr_df[setup] = list(nodeStr_sorted.keys())[0:topN]\n",
    "        \n",
    "    return degCent_df, nodeStr_df"
   ]
  },
  {
   "cell_type": "code",
   "execution_count": 30,
   "id": "ce0ed0eb",
   "metadata": {},
   "outputs": [],
   "source": [
    "degCent_rank_df, nodeStr_rank_df = sorted_cent(all_graphs, 1000)"
   ]
  },
  {
   "cell_type": "markdown",
   "id": "99d08978",
   "metadata": {},
   "source": [
    "Rank-based overlap (RBO) shows how similar two ranked lists are. The p value dictates how much weight is given to comparisons of higher ranked nodes. The weightage calculator calculates what percentage of the score comes from the first d elements in the lists. (https://towardsdatascience.com/how-to-objectively-compare-two-ranked-lists-in-python-b3d74e236f6a)"
   ]
  },
  {
   "cell_type": "code",
   "execution_count": 31,
   "id": "762b8a4c",
   "metadata": {},
   "outputs": [],
   "source": [
    "def rbo(S,T, p= 0.9):\n",
    "    \"\"\" Takes two lists S and T of any lengths and gives out the RBO Score\n",
    "    Parameters\n",
    "    ----------\n",
    "    S, T : Lists (str, integers)\n",
    "    p : Weight parameter, giving the influence of the first d\n",
    "        elements on the final score. p<0<1. Default 0.9 give the top 10 \n",
    "        elements 86% of the contribution in the final score.\n",
    "    \n",
    "    Returns\n",
    "    -------\n",
    "    Float of RBO score\n",
    "    \"\"\"\n",
    "    \n",
    "    # Fixed Terms\n",
    "    k = max(len(S), len(T))\n",
    "    x_k = len(set(S).intersection(set(T)))\n",
    "    \n",
    "    summation_term = 0\n",
    "\n",
    "    # Loop for summation\n",
    "    # k+1 for the loop to reach the last element (at k) in the bigger list    \n",
    "    for d in range (1, k+1): \n",
    "            # Create sets from the lists\n",
    "            set1 = set(S[:d]) if d < len(S) else set(S)\n",
    "            set2 = set(T[:d]) if d < len(T) else set(T)\n",
    "            \n",
    "            # Intersection at depth d\n",
    "            x_d = len(set1.intersection(set2))\n",
    "\n",
    "            # Agreement at depth d\n",
    "            a_d = x_d/d   \n",
    "            \n",
    "            # Summation\n",
    "            summation_term = summation_term + math.pow(p, d) * a_d\n",
    "\n",
    "    # Rank Biased Overlap - extrapolated\n",
    "    rbo_ext = (x_k/k) * math.pow(p, k) + ((1-p)/p * summation_term)\n",
    "\n",
    "    return rbo_ext\n",
    "\n",
    "def weightage_calculator(p,d):\n",
    "    \"\"\" Takes values of p and d\n",
    "    ----------\n",
    "    p : Weight parameter, giving the influence of the first d\n",
    "        elements on the final score. p<0<1.\n",
    "    d : depth at which the weight has to be calculated\n",
    "    \n",
    "    Returns\n",
    "    -------\n",
    "    Float of Weightage Wrbo at depth d\n",
    "    \"\"\"\n",
    "\n",
    "    summation_term = 0\n",
    "\n",
    "    for i in range (1, d): # taking d here will loop upto the value d-1 \n",
    "        summation_term = summation_term + math.pow(p,i)/i\n",
    "\n",
    "\n",
    "    Wrbo_1_d = 1 - math.pow(p, d-1) + (((1-p)/p) * d *(np.log(1/(1-p)) - summation_term))\n",
    "\n",
    "    return Wrbo_1_d"
   ]
  },
  {
   "cell_type": "markdown",
   "id": "c4f1b5c0",
   "metadata": {},
   "source": [
    "For a p value of 0.9, the top 13 nodes count for ~90% of the score; for a 0.99 p value, the top 130 count for ~90% of the score."
   ]
  },
  {
   "cell_type": "code",
   "execution_count": 32,
   "id": "07345f34",
   "metadata": {},
   "outputs": [
    {
     "name": "stdout",
     "output_type": "stream",
     "text": [
      "0.9079099164989892\n",
      "0.9039562429806366\n"
     ]
    }
   ],
   "source": [
    "print(weightage_calculator(0.9, 13))\n",
    "print(weightage_calculator(0.99, 130))"
   ]
  },
  {
   "cell_type": "markdown",
   "id": "360d3f5b",
   "metadata": {},
   "source": [
    "We calculate rank based overlap of all networks. We calculate these values for p values of 0.9 and 0.99. "
   ]
  },
  {
   "cell_type": "markdown",
   "id": "eba8cc40",
   "metadata": {},
   "source": [
    "#### Node Strength Rankings"
   ]
  },
  {
   "cell_type": "markdown",
   "id": "20dd9ea4",
   "metadata": {},
   "source": [
    "The shortlist ranking uses a p-value of 0.9 (meaning a smaller proportion of the rankings count towards the similarity score), while the longlist ranking uses a p-value of 0.99 (meaning a greater proportion of the rankings count towards the score)."
   ]
  },
  {
   "cell_type": "code",
   "execution_count": null,
   "id": "7dd52c9f",
   "metadata": {},
   "outputs": [],
   "source": [
    "nodeStr_shortlist_all_df = pd.DataFrame(columns = nodeStr_rank_df.columns, index = nodeStr_rank_df.columns)\n",
    "\n",
    "for col1 in nodeStr_rank_df:\n",
    "    for col2 in nodeStr_rank_df:\n",
    "        nodeStr_shortlist_all_df[col1][col2] = rbo(nodeStr_rank_df[col1],nodeStr_rank_df[col2], p = 0.9)\n",
    "        \n",
    "nodeStr_shortlist_all_df = nodeStr_shortlist_all_df.astype(float)\n",
    "\n",
    "nodeStr_longlist_all_df = pd.DataFrame(columns = nodeStr_rank_df.columns, index = nodeStr_rank_df.columns)\n",
    "\n",
    "for col1 in nodeStr_rank_df:\n",
    "    for col2 in nodeStr_rank_df:\n",
    "        nodeStr_longlist_all_df[col1][col2] = rbo(nodeStr_rank_df[col1],nodeStr_rank_df[col2], p = 0.99)\n",
    "        \n",
    "nodeStr_longlist_all_df = nodeStr_longlist_all_df.astype(float)"
   ]
  },
  {
   "cell_type": "code",
   "execution_count": null,
   "id": "5a690354",
   "metadata": {},
   "outputs": [],
   "source": [
    "nodeStr_shortlist_all_df.round(3)"
   ]
  },
  {
   "cell_type": "code",
   "execution_count": null,
   "id": "1f942545",
   "metadata": {},
   "outputs": [],
   "source": [
    "nodeStr_longlist_all_df"
   ]
  },
  {
   "cell_type": "markdown",
   "id": "fef8bd27",
   "metadata": {},
   "source": [
    "#### Degree Centrality Rankings"
   ]
  },
  {
   "cell_type": "code",
   "execution_count": null,
   "id": "cb6c3a67",
   "metadata": {},
   "outputs": [],
   "source": [
    "degCent_shortlist_all_df = pd.DataFrame(columns = degCent_rank_df.columns, index = degCent_rank_df.columns)\n",
    "\n",
    "for col1 in degCent_rank_df:\n",
    "    for col2 in degCent_rank_df:\n",
    "        degCent_shortlist_all_df[col1][col2] = rbo(degCent_rank_df[col1],degCent_rank_df[col2], p = 0.9)\n",
    "        \n",
    "degCent_shortlist_all_df = degCent_shortlist_all_df.astype(float)\n",
    "\n",
    "degCent_longlist_all_df = pd.DataFrame(columns = degCent_rank_df.columns, index = degCent_rank_df.columns)\n",
    "\n",
    "for col1 in degCent_rank_df:\n",
    "    for col2 in degCent_rank_df:\n",
    "        degCent_longlist_all_df[col1][col2] = rbo(degCent_rank_df[col1],degCent_rank_df[col2], p = 0.99)\n",
    "        \n",
    "degCent_longlist_all_df = degCent_longlist_all_df.astype(float)"
   ]
  },
  {
   "cell_type": "code",
   "execution_count": null,
   "id": "392923f9",
   "metadata": {},
   "outputs": [],
   "source": [
    "degCent_shortlist_all_df.round(3)"
   ]
  },
  {
   "cell_type": "code",
   "execution_count": null,
   "id": "6aab5411",
   "metadata": {},
   "outputs": [],
   "source": [
    "degCent_longlist_all_df.round(3)"
   ]
  },
  {
   "cell_type": "markdown",
   "id": "df61c865",
   "metadata": {},
   "source": [
    "## Community Structure"
   ]
  },
  {
   "cell_type": "code",
   "execution_count": null,
   "id": "62ea40bb",
   "metadata": {},
   "outputs": [],
   "source": [
    "communities = dict()\n",
    "\n",
    "for graph in all_graphs:\n",
    "    communities[graph] = nx.community.louvain_communities(all_graphs[graph], weight = 'weight', seed = 0)\n",
    "    \n",
    "graph_communities = dict()\n",
    "\n",
    "for graph in all_graphs:\n",
    "    nodeStr = nx.degree(all_graphs[graph], weight = 'weight')\n",
    "    nodeStr_sorted = dict(sorted(dict(nodeStr).items(), key=lambda item: item[1],reverse=True))\n",
    "    \n",
    "    working_communities = communities[graph]\n",
    "    i = 0\n",
    "    for community in working_communities:\n",
    "        if len(community) > 10:\n",
    "            community_values = {x:nodeStr_sorted[x] for x in community}\n",
    "            top_10_nodes = list(dict(sorted(community_values.items(), key=lambda x: x[1], reverse=True)[:10]).keys())\n",
    "            \n",
    "            graph_communities[graph + '_com_num_' + str(i)] = {'length': len(community), 'top_nodes': top_10_nodes}\n",
    "            i += 1"
   ]
  },
  {
   "cell_type": "code",
   "execution_count": null,
   "id": "9f920d0a",
   "metadata": {},
   "outputs": [],
   "source": [
    "[graph_communities[x] for x in graph_communities if '3_3' in x]"
   ]
  }
 ],
 "metadata": {
  "kernelspec": {
   "display_name": "Python 3 (ipykernel)",
   "language": "python",
   "name": "python3"
  },
  "language_info": {
   "codemirror_mode": {
    "name": "ipython",
    "version": 3
   },
   "file_extension": ".py",
   "mimetype": "text/x-python",
   "name": "python",
   "nbconvert_exporter": "python",
   "pygments_lexer": "ipython3",
   "version": "3.8.8"
  }
 },
 "nbformat": 4,
 "nbformat_minor": 5
}
